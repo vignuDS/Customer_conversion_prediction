{
 "cells": [
  {
   "cell_type": "markdown",
   "id": "0dd08497",
   "metadata": {},
   "source": [
    "# Customer Conversion Prediction"
   ]
  },
  {
   "cell_type": "markdown",
   "id": "89534411",
   "metadata": {},
   "source": [
    "## Problem Statement\n",
    "You are working for a new-age insurance company and employ\n",
    "multiple outreach plans to sell term insurance to your\n",
    "customers. Telephonic marketing campaigns still remain one of\n",
    "the most effective ways to reach out to people however they\n",
    "incur a lot of cost. Hence, it is important to identify the\n",
    "customers that are most likely to convert beforehand so that\n",
    "they can be specifically targeted via call. We are given the\n",
    "historical marketing data of the insurance company and are\n",
    "required to build a ML model that will predict if a client will\n",
    "subscribe to the insurance."
   ]
  },
  {
   "cell_type": "markdown",
   "id": "62962194",
   "metadata": {},
   "source": [
    "To solve this problem, we will follow the following steps:\n",
    "\n",
    "1. Data Preprocessing\n",
    "2. Exploratory Data Analysis\n",
    "3. Feature Selection\n",
    "4. Model Building\n",
    "5. Model Evaluation"
   ]
  },
  {
   "cell_type": "markdown",
   "id": "c9270912",
   "metadata": {},
   "source": [
    "## 1.Data Preprocessing"
   ]
  },
  {
   "cell_type": "code",
   "execution_count": 1,
   "id": "b9b8da2a",
   "metadata": {},
   "outputs": [],
   "source": [
    "import pandas as pd\n",
    "import numpy as np\n",
    "import seaborn as sns\n",
    "import matplotlib.pyplot as plt\n",
    "from sklearn.model_selection import train_test_split\n",
    "from sklearn.metrics import roc_auc_score, accuracy_score\n",
    "from sklearn.linear_model import LogisticRegression\n",
    "from sklearn.ensemble import RandomForestClassifier\n",
    "from sklearn.tree import DecisionTreeClassifier\n",
    "from sklearn.neighbors import KNeighborsClassifier\n",
    "from sklearn.naive_bayes import GaussianNB"
   ]
  },
  {
   "cell_type": "code",
   "execution_count": 2,
   "id": "a5ea5c47",
   "metadata": {},
   "outputs": [],
   "source": [
    "df = pd.read_csv(\"Customer Conversion Prediction.csv\")"
   ]
  },
  {
   "cell_type": "code",
   "execution_count": 3,
   "id": "6ba3c479",
   "metadata": {},
   "outputs": [
    {
     "data": {
      "text/html": [
       "<div>\n",
       "<style scoped>\n",
       "    .dataframe tbody tr th:only-of-type {\n",
       "        vertical-align: middle;\n",
       "    }\n",
       "\n",
       "    .dataframe tbody tr th {\n",
       "        vertical-align: top;\n",
       "    }\n",
       "\n",
       "    .dataframe thead th {\n",
       "        text-align: right;\n",
       "    }\n",
       "</style>\n",
       "<table border=\"1\" class=\"dataframe\">\n",
       "  <thead>\n",
       "    <tr style=\"text-align: right;\">\n",
       "      <th></th>\n",
       "      <th>age</th>\n",
       "      <th>job</th>\n",
       "      <th>marital</th>\n",
       "      <th>education_qual</th>\n",
       "      <th>call_type</th>\n",
       "      <th>day</th>\n",
       "      <th>mon</th>\n",
       "      <th>dur</th>\n",
       "      <th>num_calls</th>\n",
       "      <th>prev_outcome</th>\n",
       "      <th>y</th>\n",
       "    </tr>\n",
       "  </thead>\n",
       "  <tbody>\n",
       "    <tr>\n",
       "      <th>0</th>\n",
       "      <td>58</td>\n",
       "      <td>management</td>\n",
       "      <td>married</td>\n",
       "      <td>tertiary</td>\n",
       "      <td>unknown</td>\n",
       "      <td>5</td>\n",
       "      <td>may</td>\n",
       "      <td>261</td>\n",
       "      <td>1</td>\n",
       "      <td>unknown</td>\n",
       "      <td>no</td>\n",
       "    </tr>\n",
       "    <tr>\n",
       "      <th>1</th>\n",
       "      <td>44</td>\n",
       "      <td>technician</td>\n",
       "      <td>single</td>\n",
       "      <td>secondary</td>\n",
       "      <td>unknown</td>\n",
       "      <td>5</td>\n",
       "      <td>may</td>\n",
       "      <td>151</td>\n",
       "      <td>1</td>\n",
       "      <td>unknown</td>\n",
       "      <td>no</td>\n",
       "    </tr>\n",
       "    <tr>\n",
       "      <th>2</th>\n",
       "      <td>33</td>\n",
       "      <td>entrepreneur</td>\n",
       "      <td>married</td>\n",
       "      <td>secondary</td>\n",
       "      <td>unknown</td>\n",
       "      <td>5</td>\n",
       "      <td>may</td>\n",
       "      <td>76</td>\n",
       "      <td>1</td>\n",
       "      <td>unknown</td>\n",
       "      <td>no</td>\n",
       "    </tr>\n",
       "    <tr>\n",
       "      <th>3</th>\n",
       "      <td>47</td>\n",
       "      <td>blue-collar</td>\n",
       "      <td>married</td>\n",
       "      <td>unknown</td>\n",
       "      <td>unknown</td>\n",
       "      <td>5</td>\n",
       "      <td>may</td>\n",
       "      <td>92</td>\n",
       "      <td>1</td>\n",
       "      <td>unknown</td>\n",
       "      <td>no</td>\n",
       "    </tr>\n",
       "    <tr>\n",
       "      <th>4</th>\n",
       "      <td>33</td>\n",
       "      <td>unknown</td>\n",
       "      <td>single</td>\n",
       "      <td>unknown</td>\n",
       "      <td>unknown</td>\n",
       "      <td>5</td>\n",
       "      <td>may</td>\n",
       "      <td>198</td>\n",
       "      <td>1</td>\n",
       "      <td>unknown</td>\n",
       "      <td>no</td>\n",
       "    </tr>\n",
       "  </tbody>\n",
       "</table>\n",
       "</div>"
      ],
      "text/plain": [
       "   age           job  marital education_qual call_type  day  mon  dur  \\\n",
       "0   58    management  married       tertiary   unknown    5  may  261   \n",
       "1   44    technician   single      secondary   unknown    5  may  151   \n",
       "2   33  entrepreneur  married      secondary   unknown    5  may   76   \n",
       "3   47   blue-collar  married        unknown   unknown    5  may   92   \n",
       "4   33       unknown   single        unknown   unknown    5  may  198   \n",
       "\n",
       "   num_calls prev_outcome   y  \n",
       "0          1      unknown  no  \n",
       "1          1      unknown  no  \n",
       "2          1      unknown  no  \n",
       "3          1      unknown  no  \n",
       "4          1      unknown  no  "
      ]
     },
     "execution_count": 3,
     "metadata": {},
     "output_type": "execute_result"
    }
   ],
   "source": [
    "df.head(5)"
   ]
  },
  {
   "cell_type": "code",
   "execution_count": 4,
   "id": "d0837fa6",
   "metadata": {},
   "outputs": [
    {
     "name": "stdout",
     "output_type": "stream",
     "text": [
      "<class 'pandas.core.frame.DataFrame'>\n",
      "RangeIndex: 45211 entries, 0 to 45210\n",
      "Data columns (total 11 columns):\n",
      " #   Column          Non-Null Count  Dtype \n",
      "---  ------          --------------  ----- \n",
      " 0   age             45211 non-null  int64 \n",
      " 1   job             45211 non-null  object\n",
      " 2   marital         45211 non-null  object\n",
      " 3   education_qual  45211 non-null  object\n",
      " 4   call_type       45211 non-null  object\n",
      " 5   day             45211 non-null  int64 \n",
      " 6   mon             45211 non-null  object\n",
      " 7   dur             45211 non-null  int64 \n",
      " 8   num_calls       45211 non-null  int64 \n",
      " 9   prev_outcome    45211 non-null  object\n",
      " 10  y               45211 non-null  object\n",
      "dtypes: int64(4), object(7)\n",
      "memory usage: 3.8+ MB\n"
     ]
    }
   ],
   "source": [
    "# check the information available on data like data types, number of null columns, total number of columns, column name, etc.,\n",
    "df.info()"
   ]
  },
  {
   "cell_type": "code",
   "execution_count": 5,
   "id": "5aae9cd2",
   "metadata": {},
   "outputs": [
    {
     "name": "stdout",
     "output_type": "stream",
     "text": [
      "age                 77\n",
      "job                 12\n",
      "marital              3\n",
      "education_qual       4\n",
      "call_type            3\n",
      "day                 31\n",
      "mon                 12\n",
      "dur               1573\n",
      "num_calls           48\n",
      "prev_outcome         4\n",
      "y                    2\n",
      "dtype: int64\n"
     ]
    }
   ],
   "source": [
    "# Check the number of unique values in each column\n",
    "print(df.nunique())"
   ]
  },
  {
   "cell_type": "markdown",
   "id": "286d0105",
   "metadata": {},
   "source": [
    "## 2. Exploratory Data Analysis"
   ]
  },
  {
   "cell_type": "code",
   "execution_count": 6,
   "id": "ed47deec",
   "metadata": {
    "scrolled": true
   },
   "outputs": [
    {
     "data": {
      "text/plain": [
       "Text(0.5, 1.0, 'Number of Calls')"
      ]
     },
     "execution_count": 6,
     "metadata": {},
     "output_type": "execute_result"
    },
    {
     "data": {
      "image/png": "[encoded data removed]",
      "text/plain": [
       "<Figure size 864x576 with 4 Axes>"
      ]
     },
     "metadata": {
      "needs_background": "light"
     },
     "output_type": "display_data"
    }
   ],
   "source": [
    "import matplotlib.pyplot as plt\n",
    "\n",
    "# Create subplots for all numerical columns\n",
    "fig, axs = plt.subplots(nrows=2, ncols=2, figsize=(12, 8))\n",
    "\n",
    "# Plot histograms\n",
    "axs[0, 0].hist(df[\"age\"])\n",
    "axs[0, 1].hist(df[\"day\"])\n",
    "axs[1, 0].hist(df[\"dur\"])\n",
    "axs[1, 1].hist(df[\"num_calls\"])\n",
    "\n",
    "# Add titles to subplots\n",
    "axs[0, 0].set_title(\"Distribution of Age\")\n",
    "axs[0, 1].set_title(\"number of Day\")\n",
    "axs[1, 0].set_title(\"Distribution of Duration\")\n",
    "axs[1, 1].set_title(\"Number of Calls\")\n",
    "\n"
   ]
  },
  {
   "cell_type": "markdown",
   "id": "123f5083",
   "metadata": {},
   "source": [
    "The plots above provide clear insights that:\n",
    "\n",
    "1. Customers aged between 25 to 40 have shown more interest in insurance and have a higher probability of conversion.\n",
    "2. Majority of the calls had a duration of 0 to 500 seconds."
   ]
  },
  {
   "cell_type": "code",
   "execution_count": 7,
   "id": "308d232e",
   "metadata": {},
   "outputs": [
    {
     "data": {
      "text/plain": [
       "<AxesSubplot: >"
      ]
     },
     "execution_count": 7,
     "metadata": {},
     "output_type": "execute_result"
    },
    {
     "data": {
      "image/png": "[encoded data removed]",
      "text/plain": [
       "<Figure size 1008x1152 with 6 Axes>"
      ]
     },
     "metadata": {
      "needs_background": "light"
     },
     "output_type": "display_data"
    }
   ],
   "source": [
    "import seaborn as sns\n",
    "\n",
    "# Check the distribution of the categorical variables\n",
    "# Create subplots for all categorical columns\n",
    "\n",
    "fig1, axs = plt.subplots(nrows=2, ncols=3, figsize=(14, 16))\n",
    "\n",
    "# Plot each categorical variable\n",
    "df[\"job\"].value_counts().plot(kind=\"bar\", ax=axs[0,0])\n",
    "df[\"marital\"].value_counts().plot(kind=\"bar\", ax=axs[0,1])\n",
    "df[\"education_qual\"].value_counts().plot(kind=\"bar\", ax=axs[0,2])\n",
    "df[\"prev_outcome\"].value_counts().plot(kind=\"bar\", ax=axs[1,0])\n",
    "df[\"call_type\"].value_counts().plot(kind=\"bar\", ax=axs[1,1])\n",
    "df[\"mon\"].value_counts().plot(kind=\"bar\", ax=axs[1,2])\n",
    "\n"
   ]
  },
  {
   "cell_type": "markdown",
   "id": "58297876",
   "metadata": {},
   "source": [
    "Based on the plots shown above, we can infer that:\n",
    "\n",
    "1. The occupations Blue-collar, Management, and Technician are more interested in subscribing to insurance. Conversely, unemployed, housemaids, and students are less likely to opt for insurance, as there is less data available for them.\n",
    "2. Married individuals show more interest in insurance compared to divorced or single individuals.\n",
    "3. Most of the customers have completed secondary or tertiary education.\n",
    "4. Cellular communication is the most commonly used communication medium among customers.\n",
    "5. The month of May has a higher number of customers. Conversely, the month of December has fewer customers."
   ]
  },
  {
   "cell_type": "code",
   "execution_count": 8,
   "id": "9a77067c",
   "metadata": {},
   "outputs": [
    {
     "data": {
      "text/plain": [
       "<AxesSubplot: >"
      ]
     },
     "execution_count": 8,
     "metadata": {},
     "output_type": "execute_result"
    },
    {
     "data": {
      "image/png": "[encoded data removed]",
      "text/plain": [
       "<Figure size 1440x720 with 2 Axes>"
      ]
     },
     "metadata": {
      "needs_background": "light"
     },
     "output_type": "display_data"
    }
   ],
   "source": [
    "corr = df.corr()\n",
    "mask = np.array(corr)\n",
    "mask[np.tril_indices_from(mask)] = False\n",
    "fig,ax= plt.subplots()\n",
    "fig.set_size_inches(20,10)\n",
    "sns.heatmap(corr, mask=mask,vmax=.9, square=True,annot=True, cmap=\"YlGnBu\")"
   ]
  },
  {
   "cell_type": "markdown",
   "id": "881ca61d",
   "metadata": {},
   "source": [
    "It can be deduced that there is a strong correlation between the duration of the call and the target variable. This inference can be validated as well. When the duration of the call is longer, there is a greater likelihood that the client is interested in the term deposit, and consequently, a higher probability that they will subscribe to it."
   ]
  },
  {
   "cell_type": "markdown",
   "id": "ded1c847",
   "metadata": {},
   "source": [
    "## 3. Feature Selection"
   ]
  },
  {
   "cell_type": "code",
   "execution_count": 9,
   "id": "ffedb420",
   "metadata": {},
   "outputs": [
    {
     "name": "stdout",
     "output_type": "stream",
     "text": [
      "no     39922\n",
      "yes     5289\n",
      "Name: y, dtype: int64\n"
     ]
    }
   ],
   "source": [
    "# Check the distribution of the target variable\n",
    "print(df['y'].value_counts())"
   ]
  },
  {
   "cell_type": "markdown",
   "id": "94284a1a",
   "metadata": {},
   "source": [
    "We can see that there are no missing values in the data. The column contains categorical datas are job, marital, education_qual, call_type, prev_outcome, month. The target variable y is imbalanced, with the majority of clients not subscribing to the insurance. We will need to address this issue later when training the model."
   ]
  },
  {
   "cell_type": "markdown",
   "id": "c843902d",
   "metadata": {},
   "source": [
    "## 4. Model Building\n",
    "\n",
    "Next, we will prepare the data for training the model. We will perform the following steps:\n",
    "\n",
    "Convert categorical variables to numerical variables using one-hot encoding\n",
    "Convert the target variable to a binary variable\n",
    "Split the data into training and testing sets"
   ]
  },
  {
   "cell_type": "code",
   "execution_count": 10,
   "id": "ce74a194",
   "metadata": {},
   "outputs": [],
   "source": [
    "# Convert categorical variables to numerical variables\n",
    "df_encoded = pd.get_dummies(df, columns=['job', 'marital', 'education_qual', 'call_type', 'prev_outcome','mon'])"
   ]
  },
  {
   "cell_type": "code",
   "execution_count": 11,
   "id": "2214e5e1",
   "metadata": {},
   "outputs": [],
   "source": [
    "# Convert the target variable to a binary variable\n",
    "df_encoded['y'] = np.where(df_encoded['y'] == 'yes', 1, 0)"
   ]
  },
  {
   "cell_type": "code",
   "execution_count": 12,
   "id": "aad5a950",
   "metadata": {},
   "outputs": [],
   "source": [
    "# Split the data into training and testing sets\n",
    "X = df_encoded.drop('y', axis=1)\n",
    "y = df_encoded['y']\n",
    "X_train, X_test, y_train, y_test = train_test_split(X,y, test_size=0.2, random_state=42)"
   ]
  },
  {
   "cell_type": "markdown",
   "id": "86b6e215",
   "metadata": {},
   "source": [
    "We will train the data using different classifier to check their accuracy."
   ]
  },
  {
   "cell_type": "markdown",
   "id": "14baee66",
   "metadata": {},
   "source": [
    "### RandomForestClassifier"
   ]
  },
  {
   "cell_type": "code",
   "execution_count": 13,
   "id": "9e37cdbb",
   "metadata": {},
   "outputs": [
    {
     "data": {
      "text/html": [
       "<style>#sk-container-id-1 {color: black;background-color: white;}#sk-container-id-1 pre{padding: 0;}#sk-container-id-1 div.sk-toggleable {background-color: white;}#sk-container-id-1 label.sk-toggleable__label {cursor: pointer;display: block;width: 100%;margin-bottom: 0;padding: 0.3em;box-sizing: border-box;text-align: center;}#sk-container-id-1 label.sk-toggleable__label-arrow:before {content: \"▸\";float: left;margin-right: 0.25em;color: #696969;}#sk-container-id-1 label.sk-toggleable__label-arrow:hover:before {color: black;}#sk-container-id-1 div.sk-estimator:hover label.sk-toggleable__label-arrow:before {color: black;}#sk-container-id-1 div.sk-toggleable__content {max-height: 0;max-width: 0;overflow: hidden;text-align: left;background-color: #f0f8ff;}#sk-container-id-1 div.sk-toggleable__content pre {margin: 0.2em;color: black;border-radius: 0.25em;background-color: #f0f8ff;}#sk-container-id-1 input.sk-toggleable__control:checked~div.sk-toggleable__content {max-height: 200px;max-width: 100%;overflow: auto;}#sk-container-id-1 input.sk-toggleable__control:checked~label.sk-toggleable__label-arrow:before {content: \"▾\";}#sk-container-id-1 div.sk-estimator input.sk-toggleable__control:checked~label.sk-toggleable__label {background-color: #d4ebff;}#sk-container-id-1 div.sk-label input.sk-toggleable__control:checked~label.sk-toggleable__label {background-color: #d4ebff;}#sk-container-id-1 input.sk-hidden--visually {border: 0;clip: rect(1px 1px 1px 1px);clip: rect(1px, 1px, 1px, 1px);height: 1px;margin: -1px;overflow: hidden;padding: 0;position: absolute;width: 1px;}#sk-container-id-1 div.sk-estimator {font-family: monospace;background-color: #f0f8ff;border: 1px dotted black;border-radius: 0.25em;box-sizing: border-box;margin-bottom: 0.5em;}#sk-container-id-1 div.sk-estimator:hover {background-color: #d4ebff;}#sk-container-id-1 div.sk-parallel-item::after {content: \"\";width: 100%;border-bottom: 1px solid gray;flex-grow: 1;}#sk-container-id-1 div.sk-label:hover label.sk-toggleable__label {background-color: #d4ebff;}#sk-container-id-1 div.sk-serial::before {content: \"\";position: absolute;border-left: 1px solid gray;box-sizing: border-box;top: 0;bottom: 0;left: 50%;z-index: 0;}#sk-container-id-1 div.sk-serial {display: flex;flex-direction: column;align-items: center;background-color: white;padding-right: 0.2em;padding-left: 0.2em;position: relative;}#sk-container-id-1 div.sk-item {position: relative;z-index: 1;}#sk-container-id-1 div.sk-parallel {display: flex;align-items: stretch;justify-content: center;background-color: white;position: relative;}#sk-container-id-1 div.sk-item::before, #sk-container-id-1 div.sk-parallel-item::before {content: \"\";position: absolute;border-left: 1px solid gray;box-sizing: border-box;top: 0;bottom: 0;left: 50%;z-index: -1;}#sk-container-id-1 div.sk-parallel-item {display: flex;flex-direction: column;z-index: 1;position: relative;background-color: white;}#sk-container-id-1 div.sk-parallel-item:first-child::after {align-self: flex-end;width: 50%;}#sk-container-id-1 div.sk-parallel-item:last-child::after {align-self: flex-start;width: 50%;}#sk-container-id-1 div.sk-parallel-item:only-child::after {width: 0;}#sk-container-id-1 div.sk-dashed-wrapped {border: 1px dashed gray;margin: 0 0.4em 0.5em 0.4em;box-sizing: border-box;padding-bottom: 0.4em;background-color: white;}#sk-container-id-1 div.sk-label label {font-family: monospace;font-weight: bold;display: inline-block;line-height: 1.2em;}#sk-container-id-1 div.sk-label-container {text-align: center;}#sk-container-id-1 div.sk-container {/* jupyter's `normalize.less` sets `[hidden] { display: none; }` but bootstrap.min.css set `[hidden] { display: none !important; }` so we also need the `!important` here to be able to override the default hidden behavior on the sphinx rendered scikit-learn.org. See: https://github.com/scikit-learn/scikit-learn/issues/21755 */display: inline-block !important;position: relative;}#sk-container-id-1 div.sk-text-repr-fallback {display: none;}</style><div id=\"sk-container-id-1\" class=\"sk-top-container\"><div class=\"sk-text-repr-fallback\"><pre>RandomForestClassifier(random_state=42)</pre><b>In a Jupyter environment, please rerun this cell to show the HTML representation or trust the notebook. <br />On GitHub, the HTML representation is unable to render, please try loading this page with nbviewer.org.</b></div><div class=\"sk-container\" hidden><div class=\"sk-item\"><div class=\"sk-estimator sk-toggleable\"><input class=\"sk-toggleable__control sk-hidden--visually\" id=\"sk-estimator-id-1\" type=\"checkbox\" checked><label for=\"sk-estimator-id-1\" class=\"sk-toggleable__label sk-toggleable__label-arrow\">RandomForestClassifier</label><div class=\"sk-toggleable__content\"><pre>RandomForestClassifier(random_state=42)</pre></div></div></div></div></div>"
      ],
      "text/plain": [
       "RandomForestClassifier(random_state=42)"
      ]
     },
     "execution_count": 13,
     "metadata": {},
     "output_type": "execute_result"
    }
   ],
   "source": [
    "# Train a random forest classifier\n",
    "rf = RandomForestClassifier(n_estimators=100, random_state=42)\n",
    "rf.fit(X_train, y_train)"
   ]
  },
  {
   "cell_type": "code",
   "execution_count": 14,
   "id": "e072dbc2",
   "metadata": {},
   "outputs": [
    {
     "name": "stdout",
     "output_type": "stream",
     "text": [
      "Accuracy Score of RandomForestClassifier: 0.9\n",
      "ROC AUC Score of RandomForestClassifier: 0.92\n"
     ]
    }
   ],
   "source": [
    "# Evaluate the performance of the model on the testing data\n",
    "y_pred_proba = rf.predict_proba(X_test)[:,1]\n",
    "auroc = roc_auc_score(y_test, y_pred_proba)\n",
    "y_pred = (y_pred_proba > 0.5).astype(int)\n",
    "print(\"Accuracy Score of RandomForestClassifier:\",round(accuracy_score(y_test, y_pred),2))\n",
    "print(\"ROC AUC Score of RandomForestClassifier:\",round(auroc,2))"
   ]
  },
  {
   "cell_type": "markdown",
   "id": "00d1feca",
   "metadata": {},
   "source": [
    "### Logistic Regression"
   ]
  },
  {
   "cell_type": "code",
   "execution_count": 15,
   "id": "206434d2",
   "metadata": {},
   "outputs": [
    {
     "name": "stdout",
     "output_type": "stream",
     "text": [
      "Accuracy Score of Logistic Reg: 0.9\n",
      "ROC AUC Score of Logistic Reg: 0.66\n"
     ]
    }
   ],
   "source": [
    "logreg = LogisticRegression(random_state=50, max_iter = 1000)\n",
    "logreg.fit(X_train, y_train)\n",
    "y_pred_proba = logreg.predict(X_test)\n",
    "print(\"Accuracy Score of Logistic Reg:\",round(accuracy_score(y_test, y_pred_proba),2))\n",
    "L_AUC_ROC = roc_auc_score(y_test, y_pred_proba)\n",
    "print(\"ROC AUC Score of Logistic Reg:\",round((L_AUC_ROC),2))"
   ]
  },
  {
   "cell_type": "markdown",
   "id": "09a0ca5e",
   "metadata": {},
   "source": [
    "### Decision Tree Classifier"
   ]
  },
  {
   "cell_type": "code",
   "execution_count": 16,
   "id": "fcf51a3a",
   "metadata": {},
   "outputs": [
    {
     "name": "stdout",
     "output_type": "stream",
     "text": [
      "Accuracy Score of DecisionTreeClassifier: 0.87\n",
      "ROC AUC Score of DecisionTreeClassifier: 0.69\n"
     ]
    }
   ],
   "source": [
    "dt = DecisionTreeClassifier(random_state=42)\n",
    "dt.fit(X_train, y_train)\n",
    "y_pred_proba = dt.predict(X_test)\n",
    "acc = accuracy_score(y_test, y_pred_proba)\n",
    "auroc = roc_auc_score(y_test, y_pred_proba)\n",
    "print(\"Accuracy Score of DecisionTreeClassifier:\", round(acc,2))\n",
    "print(\"ROC AUC Score of DecisionTreeClassifier:\",round(auroc, 2))"
   ]
  },
  {
   "cell_type": "markdown",
   "id": "8877c799",
   "metadata": {},
   "source": [
    "### K Nearest Neighbours"
   ]
  },
  {
   "cell_type": "code",
   "execution_count": 17,
   "id": "b67780db",
   "metadata": {},
   "outputs": [
    {
     "name": "stdout",
     "output_type": "stream",
     "text": [
      "Accuracy Score of KNeighborsClassifier: 0.88\n",
      "ROC AUC Score of KNeighborsClassifier: 0.6\n"
     ]
    }
   ],
   "source": [
    "knn = KNeighborsClassifier(n_neighbors=5)\n",
    "knn.fit(X_train, y_train)\n",
    "y_pred_proba = knn.predict(X_test)\n",
    "acc = accuracy_score(y_test, y_pred_proba)\n",
    "auroc = roc_auc_score(y_test, y_pred_proba)\n",
    "print(\"Accuracy Score of KNeighborsClassifier:\", round(acc,2))\n",
    "print(\"ROC AUC Score of KNeighborsClassifier:\",round(auroc, 2))"
   ]
  },
  {
   "cell_type": "markdown",
   "id": "e961b826",
   "metadata": {},
   "source": [
    "### Native Bayes"
   ]
  },
  {
   "cell_type": "code",
   "execution_count": 18,
   "id": "f6dd3758",
   "metadata": {},
   "outputs": [
    {
     "name": "stdout",
     "output_type": "stream",
     "text": [
      "Accuracy Score of Naive Bayes: 0.86\n",
      "ROC AUC Score of KNeighborsClassifier: 0.69\n"
     ]
    }
   ],
   "source": [
    "nb = GaussianNB()\n",
    "nb.fit(X_train, y_train)\n",
    "y_pred_proba = nb.predict(X_test)\n",
    "acc = accuracy_score(y_test, y_pred_proba)\n",
    "auroc = roc_auc_score(y_test, y_pred_proba)\n",
    "print(\"Accuracy Score of Naive Bayes:\", round(acc,2))\n",
    "print(\"ROC AUC Score of KNeighborsClassifier:\",round(auroc, 2))"
   ]
  },
  {
   "cell_type": "markdown",
   "id": "a620596a",
   "metadata": {},
   "source": [
    "## 5. Model Evaluation"
   ]
  },
  {
   "cell_type": "markdown",
   "id": "3fc9115b",
   "metadata": {},
   "source": [
    "Our Random Model Classifier Model have ROC AUC Score of 0.92 and as well as Accuracy Score around 0.9.\n",
    "\n",
    "We will utilize the Random Forest Classifier Model, which has an accuracy rate of 90%, to generate predicted outputs. These predicted outputs can be utilized by our company's employees to more effectively target and convert clients, ultimately leading to satisfied customers. This will result in time and cost savings for both the employee and the company. Additionally, these predictions will enable the company to implement tele-marketing campaigns that are more efficient and have a higher customer conversion rate."
   ]
  }
 ],
 "metadata": {
  "kernelspec": {
   "display_name": "Python 3 (ipykernel)",
   "language": "python",
   "name": "python3"
  },
  "language_info": {
   "codemirror_mode": {
    "name": "ipython",
    "version": 3
   },
   "file_extension": ".py",
   "mimetype": "text/x-python",
   "name": "python",
   "nbconvert_exporter": "python",
   "pygments_lexer": "ipython3",
   "version": "3.10.5"
  }
 },
 "nbformat": 4,
 "nbformat_minor": 5
}
